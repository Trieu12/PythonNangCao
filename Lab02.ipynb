{
  "nbformat": 4,
  "nbformat_minor": 0,
  "metadata": {
    "colab": {
      "name": "Lab02.ipynb",
      "provenance": [],
      "authorship_tag": "ABX9TyPFuq1V1Ji9YLuY9mlJXl42",
      "include_colab_link": true
    },
    "kernelspec": {
      "name": "python3",
      "display_name": "Python 3"
    },
    "language_info": {
      "name": "python"
    }
  },
  "cells": [
    {
      "cell_type": "markdown",
      "metadata": {
        "id": "view-in-github",
        "colab_type": "text"
      },
      "source": [
        "<a href=\"https://colab.research.google.com/github/Trieu12/PythonNangCao/blob/main/Lab02.ipynb\" target=\"_parent\"><img src=\"https://colab.research.google.com/assets/colab-badge.svg\" alt=\"Open In Colab\"/></a>"
      ]
    },
    {
      "cell_type": "markdown",
      "metadata": {
        "id": "AtMi7RJvupwS"
      },
      "source": [
        "CÂU 1"
      ]
    },
    {
      "cell_type": "code",
      "metadata": {
        "colab": {
          "base_uri": "https://localhost:8080/",
          "height": 35
        },
        "id": "ynd-RaP4qZU6",
        "outputId": "3a3a145d-5c0c-4716-bf4a-d70b010e3b53"
      },
      "source": [
        "kingdoms =  ['Bacteria', 'Protozoa', 'Chromista',\n",
        "'Plantae', 'Fungi',\n",
        "'Animalia']\n",
        "\n",
        "kingdoms[0]"
      ],
      "execution_count": 1,
      "outputs": [
        {
          "output_type": "execute_result",
          "data": {
            "application/vnd.google.colaboratory.intrinsic+json": {
              "type": "string"
            },
            "text/plain": [
              "'Bacteria'"
            ]
          },
          "metadata": {},
          "execution_count": 1
        }
      ]
    },
    {
      "cell_type": "code",
      "metadata": {
        "colab": {
          "base_uri": "https://localhost:8080/",
          "height": 35
        },
        "id": "6Z9--QT_qmWn",
        "outputId": "cb47c168-84dc-4c31-d5fb-96091362eee9"
      },
      "source": [
        "kingdoms[5]"
      ],
      "execution_count": 2,
      "outputs": [
        {
          "output_type": "execute_result",
          "data": {
            "application/vnd.google.colaboratory.intrinsic+json": {
              "type": "string"
            },
            "text/plain": [
              "'Animalia'"
            ]
          },
          "metadata": {},
          "execution_count": 2
        }
      ]
    },
    {
      "cell_type": "code",
      "metadata": {
        "colab": {
          "base_uri": "https://localhost:8080/"
        },
        "id": "JCzMSi7Nqphp",
        "outputId": "597397b4-4cd3-4d3c-93f3-0de739271a5f"
      },
      "source": [
        "kingdoms[:3]"
      ],
      "execution_count": 3,
      "outputs": [
        {
          "output_type": "execute_result",
          "data": {
            "text/plain": [
              "['Bacteria', 'Protozoa', 'Chromista']"
            ]
          },
          "metadata": {},
          "execution_count": 3
        }
      ]
    },
    {
      "cell_type": "code",
      "metadata": {
        "colab": {
          "base_uri": "https://localhost:8080/"
        },
        "id": "NOrbXp9Sqykz",
        "outputId": "263a70f4-74ec-48fc-ebc2-c2663e65e862"
      },
      "source": [
        "kingdoms[2:5]"
      ],
      "execution_count": 7,
      "outputs": [
        {
          "output_type": "execute_result",
          "data": {
            "text/plain": [
              "['Chromista', 'Plantae', 'Fungi']"
            ]
          },
          "metadata": {},
          "execution_count": 7
        }
      ]
    },
    {
      "cell_type": "code",
      "metadata": {
        "colab": {
          "base_uri": "https://localhost:8080/"
        },
        "id": "lpxqe0f8q3Sr",
        "outputId": "7baae4f7-699c-4941-d49a-ee2acd92ad3d"
      },
      "source": [
        "kingdoms[4:]"
      ],
      "execution_count": 8,
      "outputs": [
        {
          "output_type": "execute_result",
          "data": {
            "text/plain": [
              "['Fungi', 'Animalia']"
            ]
          },
          "metadata": {},
          "execution_count": 8
        }
      ]
    },
    {
      "cell_type": "code",
      "metadata": {
        "colab": {
          "base_uri": "https://localhost:8080/"
        },
        "id": "CkxPZ3xLrBxr",
        "outputId": "c4b272f5-0de9-4067-e749-80f2c119b144"
      },
      "source": [
        "kingdoms[1:0]"
      ],
      "execution_count": 9,
      "outputs": [
        {
          "output_type": "execute_result",
          "data": {
            "text/plain": [
              "[]"
            ]
          },
          "metadata": {},
          "execution_count": 9
        }
      ]
    },
    {
      "cell_type": "markdown",
      "metadata": {
        "id": "415niI7Wuu-K"
      },
      "source": [
        "CÂU 2"
      ]
    },
    {
      "cell_type": "code",
      "metadata": {
        "colab": {
          "base_uri": "https://localhost:8080/",
          "height": 35
        },
        "id": "1V_braRkrHj8",
        "outputId": "a1248127-92e0-4466-9afd-dbae6c145535"
      },
      "source": [
        "kingdoms[-6]"
      ],
      "execution_count": 10,
      "outputs": [
        {
          "output_type": "execute_result",
          "data": {
            "application/vnd.google.colaboratory.intrinsic+json": {
              "type": "string"
            },
            "text/plain": [
              "'Bacteria'"
            ]
          },
          "metadata": {},
          "execution_count": 10
        }
      ]
    },
    {
      "cell_type": "code",
      "metadata": {
        "colab": {
          "base_uri": "https://localhost:8080/",
          "height": 35
        },
        "id": "F0qxFOM-reTy",
        "outputId": "6792cd8b-4df3-42ee-8234-c3189c3546bb"
      },
      "source": [
        "kingdoms[-1]"
      ],
      "execution_count": 11,
      "outputs": [
        {
          "output_type": "execute_result",
          "data": {
            "application/vnd.google.colaboratory.intrinsic+json": {
              "type": "string"
            },
            "text/plain": [
              "'Animalia'"
            ]
          },
          "metadata": {},
          "execution_count": 11
        }
      ]
    },
    {
      "cell_type": "code",
      "metadata": {
        "colab": {
          "base_uri": "https://localhost:8080/"
        },
        "id": "pPPLFB07rjKU",
        "outputId": "919d79f8-9d59-45fe-dc78-7f6e126b71ea"
      },
      "source": [
        "kingdoms[-6:-3]"
      ],
      "execution_count": 12,
      "outputs": [
        {
          "output_type": "execute_result",
          "data": {
            "text/plain": [
              "['Bacteria', 'Protozoa', 'Chromista']"
            ]
          },
          "metadata": {},
          "execution_count": 12
        }
      ]
    },
    {
      "cell_type": "code",
      "metadata": {
        "colab": {
          "base_uri": "https://localhost:8080/"
        },
        "id": "yi0m1E_irokj",
        "outputId": "d5d754a1-f4db-498c-8c32-dafb058c6f2e"
      },
      "source": [
        "kingdoms[-4:-1]"
      ],
      "execution_count": 13,
      "outputs": [
        {
          "output_type": "execute_result",
          "data": {
            "text/plain": [
              "['Chromista', 'Plantae', 'Fungi']"
            ]
          },
          "metadata": {},
          "execution_count": 13
        }
      ]
    },
    {
      "cell_type": "code",
      "metadata": {
        "colab": {
          "base_uri": "https://localhost:8080/"
        },
        "id": "Jds1IIoprx1E",
        "outputId": "db206641-3fad-4063-aa2b-9e5723856450"
      },
      "source": [
        "kingdoms[-2:]"
      ],
      "execution_count": 14,
      "outputs": [
        {
          "output_type": "execute_result",
          "data": {
            "text/plain": [
              "['Fungi', 'Animalia']"
            ]
          },
          "metadata": {},
          "execution_count": 14
        }
      ]
    },
    {
      "cell_type": "code",
      "metadata": {
        "colab": {
          "base_uri": "https://localhost:8080/"
        },
        "id": "qsb8Ujtvr2Mk",
        "outputId": "1d3dcf84-177a-45f7-edcf-f9aebeb5bfab"
      },
      "source": [
        "kingdoms[-1:-2]"
      ],
      "execution_count": 15,
      "outputs": [
        {
          "output_type": "execute_result",
          "data": {
            "text/plain": [
              "[]"
            ]
          },
          "metadata": {},
          "execution_count": 15
        }
      ]
    },
    {
      "cell_type": "markdown",
      "metadata": {
        "id": "m2auRoVguyMs"
      },
      "source": [
        "CÂU 3"
      ]
    },
    {
      "cell_type": "code",
      "metadata": {
        "id": "Ydm8He7Kr6PU"
      },
      "source": [
        "appointments = ['9:00', '10:30', '14:00', '15:00','15:30']\n",
        "appointments.append('16:30')"
      ],
      "execution_count": 16,
      "outputs": []
    },
    {
      "cell_type": "code",
      "metadata": {
        "colab": {
          "base_uri": "https://localhost:8080/"
        },
        "id": "wk1DtiVtsXX7",
        "outputId": "9a94c691-7339-40a2-fa18-29bb31561160"
      },
      "source": [
        "appointments"
      ],
      "execution_count": 17,
      "outputs": [
        {
          "output_type": "execute_result",
          "data": {
            "text/plain": [
              "['9:00', '10:30', '14:00', '15:00', '15:30', '16:30']"
            ]
          },
          "metadata": {},
          "execution_count": 17
        }
      ]
    },
    {
      "cell_type": "code",
      "metadata": {
        "colab": {
          "base_uri": "https://localhost:8080/"
        },
        "id": "xAnOfOipsbbG",
        "outputId": "2caec462-29ba-410c-a95c-6924282d9079"
      },
      "source": [
        "appointments += ['16:30']\n",
        "appointments"
      ],
      "execution_count": 19,
      "outputs": [
        {
          "output_type": "execute_result",
          "data": {
            "text/plain": [
              "['9:00', '10:30', '14:00', '15:00', '15:30', '16:30', '16:30', '16:30']"
            ]
          },
          "metadata": {},
          "execution_count": 19
        }
      ]
    },
    {
      "cell_type": "markdown",
      "metadata": {
        "id": "6EWWOfIutEpP"
      },
      "source": [
        "Append: modifies the list"
      ]
    },
    {
      "cell_type": "markdown",
      "metadata": {
        "id": "wzdro7HGtdlY"
      },
      "source": [
        "+= create new list"
      ]
    },
    {
      "cell_type": "markdown",
      "metadata": {
        "id": "XWT743rBu0Ky"
      },
      "source": [
        "CÂU 4"
      ]
    },
    {
      "cell_type": "code",
      "metadata": {
        "id": "Kepw3Z3dsljr"
      },
      "source": [
        "ids =  [4353, 2314, 2956, 3382, 9362, 3900]"
      ],
      "execution_count": 20,
      "outputs": []
    },
    {
      "cell_type": "code",
      "metadata": {
        "id": "9tpzg32Utsxn"
      },
      "source": [
        "ids.remove(3382)"
      ],
      "execution_count": 22,
      "outputs": []
    },
    {
      "cell_type": "code",
      "metadata": {
        "colab": {
          "base_uri": "https://localhost:8080/"
        },
        "id": "X7WpRdmvt5lQ",
        "outputId": "8d2fa111-c785-4113-8cd4-6fc09583e276"
      },
      "source": [
        "ids"
      ],
      "execution_count": 23,
      "outputs": [
        {
          "output_type": "execute_result",
          "data": {
            "text/plain": [
              "[4353, 2314, 2956, 9362, 3900]"
            ]
          },
          "metadata": {},
          "execution_count": 23
        }
      ]
    },
    {
      "cell_type": "code",
      "metadata": {
        "colab": {
          "base_uri": "https://localhost:8080/"
        },
        "id": "z2eBWkwqt7lw",
        "outputId": "e35e2f11-b1b5-4881-895c-c8c5b573f7ce"
      },
      "source": [
        "ids.index(9362)"
      ],
      "execution_count": 24,
      "outputs": [
        {
          "output_type": "execute_result",
          "data": {
            "text/plain": [
              "3"
            ]
          },
          "metadata": {},
          "execution_count": 24
        }
      ]
    },
    {
      "cell_type": "code",
      "metadata": {
        "id": "zwmnsg0qt_Ag"
      },
      "source": [
        "ids.insert(ids.index(9362)+1, 4499)"
      ],
      "execution_count": 25,
      "outputs": []
    },
    {
      "cell_type": "code",
      "metadata": {
        "colab": {
          "base_uri": "https://localhost:8080/"
        },
        "id": "p7ttQXQJuPfg",
        "outputId": "c275fe50-d890-469c-cc02-b964ffda917b"
      },
      "source": [
        "ids"
      ],
      "execution_count": 26,
      "outputs": [
        {
          "output_type": "execute_result",
          "data": {
            "text/plain": [
              "[4353, 2314, 2956, 9362, 4499, 3900]"
            ]
          },
          "metadata": {},
          "execution_count": 26
        }
      ]
    },
    {
      "cell_type": "code",
      "metadata": {
        "id": "LF3AiEMpuQFw"
      },
      "source": [
        "ids = ids + [5566, 1830]"
      ],
      "execution_count": 27,
      "outputs": []
    },
    {
      "cell_type": "code",
      "metadata": {
        "colab": {
          "base_uri": "https://localhost:8080/"
        },
        "id": "2X03N07BueXw",
        "outputId": "002eb762-e3e0-46aa-a14a-2fae5ff8fe69"
      },
      "source": [
        "ids\n"
      ],
      "execution_count": 28,
      "outputs": [
        {
          "output_type": "execute_result",
          "data": {
            "text/plain": [
              "[4353, 2314, 2956, 9362, 4499, 3900, 5566, 1830]"
            ]
          },
          "metadata": {},
          "execution_count": 28
        }
      ]
    },
    {
      "cell_type": "code",
      "metadata": {
        "id": "X6M9HdzhufHI"
      },
      "source": [
        "ids.reverse()"
      ],
      "execution_count": 29,
      "outputs": []
    },
    {
      "cell_type": "code",
      "metadata": {
        "colab": {
          "base_uri": "https://localhost:8080/"
        },
        "id": "7TlKIab7ulgQ",
        "outputId": "051ac541-fbee-4ee8-e389-0a231f1365ff"
      },
      "source": [
        "ids"
      ],
      "execution_count": 30,
      "outputs": [
        {
          "output_type": "execute_result",
          "data": {
            "text/plain": [
              "[1830, 5566, 3900, 4499, 9362, 2956, 2314, 4353]"
            ]
          },
          "metadata": {},
          "execution_count": 30
        }
      ]
    },
    {
      "cell_type": "code",
      "metadata": {
        "id": "xQvY2BsnumDi"
      },
      "source": [
        "ids.sort()"
      ],
      "execution_count": 31,
      "outputs": []
    },
    {
      "cell_type": "code",
      "metadata": {
        "colab": {
          "base_uri": "https://localhost:8080/"
        },
        "id": "rH-TSHTuu5JY",
        "outputId": "515cf643-3401-4bf0-f537-faecad6b3b00"
      },
      "source": [
        "ids"
      ],
      "execution_count": 32,
      "outputs": [
        {
          "output_type": "execute_result",
          "data": {
            "text/plain": [
              "[1830, 2314, 2956, 3900, 4353, 4499, 5566, 9362]"
            ]
          },
          "metadata": {},
          "execution_count": 32
        }
      ]
    },
    {
      "cell_type": "markdown",
      "metadata": {
        "id": "I6_g6zsFvIup"
      },
      "source": [
        "CÂU 5"
      ]
    },
    {
      "cell_type": "code",
      "metadata": {
        "id": "fXq8c2Kju6mh"
      },
      "source": [
        "alkaline_earth_metals = [4,12,20,38,56,88]"
      ],
      "execution_count": 33,
      "outputs": []
    },
    {
      "cell_type": "code",
      "metadata": {
        "colab": {
          "base_uri": "https://localhost:8080/"
        },
        "id": "qgrs-FhTvc-Y",
        "outputId": "569e7df4-1563-479f-d423-d90aa940aba1"
      },
      "source": [
        "alkaline_earth_metals[5]"
      ],
      "execution_count": 34,
      "outputs": [
        {
          "output_type": "execute_result",
          "data": {
            "text/plain": [
              "88"
            ]
          },
          "metadata": {},
          "execution_count": 34
        }
      ]
    },
    {
      "cell_type": "code",
      "metadata": {
        "colab": {
          "base_uri": "https://localhost:8080/"
        },
        "id": "ftU4fi_MvoT7",
        "outputId": "bd9d08a0-de37-45a1-ae3a-595d6903cfdf"
      },
      "source": [
        "alkaline_earth_metals[-1]"
      ],
      "execution_count": 35,
      "outputs": [
        {
          "output_type": "execute_result",
          "data": {
            "text/plain": [
              "88"
            ]
          },
          "metadata": {},
          "execution_count": 35
        }
      ]
    },
    {
      "cell_type": "code",
      "metadata": {
        "colab": {
          "base_uri": "https://localhost:8080/"
        },
        "id": "kulaYlq_vqHH",
        "outputId": "8e1e22e4-bce9-4b01-8a1d-827d62534e6e"
      },
      "source": [
        "len(alkaline_earth_metals)"
      ],
      "execution_count": 36,
      "outputs": [
        {
          "output_type": "execute_result",
          "data": {
            "text/plain": [
              "6"
            ]
          },
          "metadata": {},
          "execution_count": 36
        }
      ]
    },
    {
      "cell_type": "code",
      "metadata": {
        "colab": {
          "base_uri": "https://localhost:8080/"
        },
        "id": "_Hmb5WNHvw54",
        "outputId": "73e5ef27-9f6a-4c17-8af9-60178de95b46"
      },
      "source": [
        "max(alkaline_earth_metals)"
      ],
      "execution_count": 37,
      "outputs": [
        {
          "output_type": "execute_result",
          "data": {
            "text/plain": [
              "88"
            ]
          },
          "metadata": {},
          "execution_count": 37
        }
      ]
    },
    {
      "cell_type": "markdown",
      "metadata": {
        "id": "XfmOffRkv74g"
      },
      "source": [
        "CÂU 6"
      ]
    },
    {
      "cell_type": "code",
      "metadata": {
        "id": "9Cq0lUirv0Dj"
      },
      "source": [
        "temps = [25.2, 16.8, 31.4, 23.9, 28, 22.5, 19.6]"
      ],
      "execution_count": 38,
      "outputs": []
    },
    {
      "cell_type": "code",
      "metadata": {
        "id": "HfEhE-olwcRQ"
      },
      "source": [
        "temps.sort()"
      ],
      "execution_count": 41,
      "outputs": []
    },
    {
      "cell_type": "code",
      "metadata": {
        "colab": {
          "base_uri": "https://localhost:8080/"
        },
        "id": "rgI7ic8Lwfv4",
        "outputId": "e7296b80-3233-4b32-d602-1464544e5363"
      },
      "source": [
        "temps"
      ],
      "execution_count": 42,
      "outputs": [
        {
          "output_type": "execute_result",
          "data": {
            "text/plain": [
              "[16.8, 19.6, 22.5, 23.9, 25.2, 28, 31.4]"
            ]
          },
          "metadata": {},
          "execution_count": 42
        }
      ]
    },
    {
      "cell_type": "code",
      "metadata": {
        "id": "DYePatw0wivA"
      },
      "source": [
        "cool_temps = temps[0:2]"
      ],
      "execution_count": 44,
      "outputs": []
    },
    {
      "cell_type": "code",
      "metadata": {
        "colab": {
          "base_uri": "https://localhost:8080/"
        },
        "id": "wsX8WdBQxBhw",
        "outputId": "3fd19f76-6474-44cb-f3a6-1885041549cd"
      },
      "source": [
        "cool_temps"
      ],
      "execution_count": 45,
      "outputs": [
        {
          "output_type": "execute_result",
          "data": {
            "text/plain": [
              "[16.8, 19.6]"
            ]
          },
          "metadata": {},
          "execution_count": 45
        }
      ]
    },
    {
      "cell_type": "code",
      "metadata": {
        "id": "NSUmq3kUxN2Y"
      },
      "source": [
        "warm_temps = temps[2:]"
      ],
      "execution_count": 46,
      "outputs": []
    },
    {
      "cell_type": "code",
      "metadata": {
        "colab": {
          "base_uri": "https://localhost:8080/"
        },
        "id": "n5F9HOcvxU-I",
        "outputId": "88a1fb8e-7345-4537-db2b-d903a8ce364a"
      },
      "source": [
        "warm_temps"
      ],
      "execution_count": 47,
      "outputs": [
        {
          "output_type": "execute_result",
          "data": {
            "text/plain": [
              "[22.5, 23.9, 25.2, 28, 31.4]"
            ]
          },
          "metadata": {},
          "execution_count": 47
        }
      ]
    },
    {
      "cell_type": "code",
      "metadata": {
        "id": "matg4vTLxWmQ"
      },
      "source": [
        "temps_in_celsius = cool_temps + warm_temps"
      ],
      "execution_count": 48,
      "outputs": []
    },
    {
      "cell_type": "code",
      "metadata": {
        "colab": {
          "base_uri": "https://localhost:8080/"
        },
        "id": "FbI4UlJ3xhIY",
        "outputId": "db691535-103e-4256-8c01-55023914cbd2"
      },
      "source": [
        "temps_in_celsius"
      ],
      "execution_count": 49,
      "outputs": [
        {
          "output_type": "execute_result",
          "data": {
            "text/plain": [
              "[16.8, 19.6, 22.5, 23.9, 25.2, 28, 31.4]"
            ]
          },
          "metadata": {},
          "execution_count": 49
        }
      ]
    },
    {
      "cell_type": "markdown",
      "metadata": {
        "id": "ELYAX4O1xl0J"
      },
      "source": [
        "CÂU 7"
      ]
    },
    {
      "cell_type": "code",
      "metadata": {
        "colab": {
          "base_uri": "https://localhost:8080/",
          "height": 129
        },
        "id": "yalU6sp3xh5z",
        "outputId": "3cb5062e-cd10-4c80-f7ea-5e2ca84f05f3"
      },
      "source": [
        "def same_first_last(L: list) -> bool:\n",
        "  len(L)>= 2\n",
        "  if(L[0] == L(len(L))\n",
        "    return \n",
        "  \n"
      ],
      "execution_count": 64,
      "outputs": [
        {
          "output_type": "error",
          "ename": "SyntaxError",
          "evalue": "ignored",
          "traceback": [
            "\u001b[0;36m  File \u001b[0;32m\"<ipython-input-64-54297d1a709b>\"\u001b[0;36m, line \u001b[0;32m4\u001b[0m\n\u001b[0;31m    return same_first_last()\u001b[0m\n\u001b[0m         ^\u001b[0m\n\u001b[0;31mSyntaxError\u001b[0m\u001b[0;31m:\u001b[0m invalid syntax\n"
          ]
        }
      ]
    },
    {
      "cell_type": "code",
      "metadata": {
        "id": "TqWeWqA9yVjo"
      },
      "source": [
        ""
      ],
      "execution_count": null,
      "outputs": []
    }
  ]
}